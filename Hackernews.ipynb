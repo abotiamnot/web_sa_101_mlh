{
 "cells": [
  {
   "cell_type": "code",
   "execution_count": 1,
   "metadata": {},
   "outputs": [],
   "source": [
    "import requests,re, csv\n",
    "from bs4 import BeautifulSoup"
   ]
  },
  {
   "cell_type": "code",
   "execution_count": 39,
   "metadata": {},
   "outputs": [],
   "source": [
    "crawl_url = 'https://news.ycombinator.com/ask?p={}'"
   ]
  },
  {
   "cell_type": "code",
   "execution_count": 3,
   "metadata": {},
   "outputs": [],
   "source": [
    "source = requests.get(r'https://news.ycombinator.com/news?p=1')"
   ]
  },
  {
   "cell_type": "code",
   "execution_count": 5,
   "metadata": {},
   "outputs": [],
   "source": [
    "soup = BeautifulSoup(source.text)"
   ]
  },
  {
   "cell_type": "code",
   "execution_count": 9,
   "metadata": {},
   "outputs": [],
   "source": [
    "titles = [elem.text for elem in soup.findAll('a', class_='storylink')]"
   ]
  },
  {
   "cell_type": "code",
   "execution_count": 15,
   "metadata": {},
   "outputs": [],
   "source": [
    "urls = [elem.get('href') for elem in soup.findAll('a', class_='storylink')]"
   ]
  },
  {
   "cell_type": "code",
   "execution_count": 19,
   "metadata": {},
   "outputs": [],
   "source": [
    "all_headings = []\n",
    "for i in range(0, len(titles)):\n",
    "    data_dict = {titles[i]: urls[i]}\n",
    "    all_headings.append(data_dict)"
   ]
  },
  {
   "cell_type": "code",
   "execution_count": 40,
   "metadata": {},
   "outputs": [],
   "source": [
    "def root_extractor(num_of_pages=3):\n",
    "    \n",
    "    all_headings = []\n",
    "    \n",
    "    for i in range(1, num_of_pages + 1):\n",
    "        source = requests.get(crawl_url.format(str(i)))\n",
    "\n",
    "        soup = BeautifulSoup(source.text)\n",
    "\n",
    "        titles = [elem.text for elem in soup.findAll('a', class_='storylink')]\n",
    "\n",
    "        urls = [elem.get('href') for elem in soup.findAll('a', class_='storylink')]\n",
    "\n",
    "        for i in range(0, len(titles)):\n",
    "            print(\"{} === {}\".format(titles[i], urls[i]))\n",
    "            data_dict = {titles[i]: urls[i]}\n",
    "            all_headings.append(data_dict)\n",
    "    return all_headings"
   ]
  },
  {
   "cell_type": "code",
   "execution_count": 41,
   "metadata": {},
   "outputs": [
    {
     "name": "stdout",
     "output_type": "stream",
     "text": [
      "Ask HN: How to properly manage a product roadmap? === item?id=22827275\n",
      "Ask HN: Do you monitor your REST APIs? === item?id=22823230\n",
      "Ask HN: Recommend me a course on Coursera === item?id=22826722\n",
      "Ask HN: Has any progress been made on large format E-ink displays? === item?id=22827833\n",
      "Tell HN: Cisco WebEx on OS X uses the same pre-installer tricks as Zoom === item?id=22815583\n",
      "Ask HN: What online learning sessions (zoom etc.) are you attending? === item?id=22841460\n",
      "Ask HN: Paper capital contributions as YC SAFE that converts to common stock? === item?id=22838532\n",
      "Ask HN: What are you doing to make your kid more successful? === item?id=22838770\n",
      "Ask HN: How well do you think your team handled the start of lockdown? === item?id=22838251\n",
      "I can't process the information that is coming at me === item?id=22831525\n",
      "Ask HN: Resources to learn basic UI layout design for React apps? === item?id=22821336\n",
      "Ask HN: Could we restructure society so that people don't hate their jobs? === item?id=22836027\n",
      "Ask HN: Any sites like oursignal.com? === item?id=22836186\n",
      "Ask HN: Physics/engineering lessons for 14 year olds? === item?id=22833216\n",
      "Ask HN: Advancing career without working over-hours? === item?id=22834884\n",
      "Ask HN: What are your favorite technology podcasts? === item?id=22822853\n",
      "Ask HN: How do you identify people with a strong work ethic? === item?id=22836646\n",
      "Ask HN: How could an introverted coder join the marauders? === item?id=22835917\n",
      "Ask HN: Is there ANY scientific evidence of 5G being harmful === item?id=22826668\n",
      "Ask HN: After becoming a parent, what perspectives changed for you? === item?id=22835601\n",
      "Ask HN: How to start a lending business? === item?id=22835522\n",
      "Netflix should offer free TV for kids who watch educational lessons first === item?id=22834819\n",
      "Ask HN: How do you plan and track the books you want to read? === item?id=22834759\n",
      "Ask HN: How much are sales people making at B2B SaaS companies? === item?id=22837793\n",
      "Ask HN: Why is instant messaging over email not a thing? === item?id=22830301\n",
      "Thought experiment: Imagine we limit all development teams to one === item?id=22830092\n",
      "Ask HN: What is total mass of human-infecting SARS-CoV-2 Covid-19 virus === item?id=22832582\n",
      "WordNet and ImageNet in a clone-able SQL database === item?id=22834816\n",
      "Controlling Covid 19: Stabilize immune response, Cytokine storm === item?id=22832204\n",
      "Ask HN: What has been the impact of Covid on efficiencies in shipping === item?id=22837930\n",
      "What learning tools/ strategies do you use alongside Anki? === item?id=22827982\n",
      "Tell HN: AWS Console takes forever to load === item?id=22822646\n",
      "Any examples of writing/authors who write with algorithmic style – like code? === item?id=22826556\n",
      "Ask HN: Need help and support to fight through challenges === item?id=22825091\n",
      "Ask HN: Why do registrars force you to use their nameservers first? === item?id=22830010\n",
      "Ask HN: Is there a way to block out your property in Google Map et al.? === item?id=22823702\n",
      "Ask HN: Sci-Fi with advanced morals and ethics, not just technology? === item?id=22817245\n",
      "Ask HN: Who's getting healthier in quarantine and why? === item?id=22838085\n",
      "Ask HN: How would you design a system with spikes in writes? === item?id=22829222\n",
      "Ask HN: Looking for article about Google reducing their reliance on internal VPN === item?id=22829068\n",
      "Is Udacity Digital Marketing Nanodegree worth subscribing for $1000? === item?id=22831664\n",
      "Ask HN: Does Google censor search suggestions? === item?id=22828603\n",
      "Ask HN: What kind of side business is good to start during an economic crisis? === item?id=22817546\n",
      "Ask HN: Tech stack recommendations for online ordering at a small grocery store? === item?id=22827835\n",
      "Ask HN: Primary news Sources for Covid 19 === item?id=22833384\n",
      "Ask HN: How do you keep application data synced with a CRM === item?id=22826946\n",
      "Ask HN: Why hasn't a vertical rhythm CSS reset caught on? === item?id=22826804\n",
      "Ask HN: Is there an open-source standard for resume entries? === item?id=22826455\n",
      "Ask HN: What are the best online coding platforms for interview preparation? === item?id=22825125\n",
      "Salary Cut from Coronavirus === item?id=22828930\n",
      "Ask HN: Have you had success renegotiating your office lease? === item?id=22824201\n",
      "Ask HN: Perfect tooling for high-availability statistics? === item?id=22824040\n",
      "Ask HN: What Happened to ICOs? === item?id=22823122\n",
      "Ask HN: Is anyone doing anything interesting with their exported Twitter data? === item?id=22816445\n",
      "Ask HN: What's your wish list for WFH tools? === item?id=22821002\n",
      "Ask HN: Are you an open source contributor with a blog? === item?id=22820654\n",
      "Ask HN: Promo from Senior to Tech Lead, any TL's care to share some wisdom? === item?id=22820395\n",
      "Google Drive FS collects crash data about Firefox and other applications, why? === item?id=22820390\n",
      "Building a super-app/platform like Grab, GO-JEK, and WeChat; for Africa === item?id=22819490\n",
      "Ask HN: Drone Delivery Post-Covid? === item?id=22818292\n",
      "Ask HN: Thoughts on the State of Video DRM? === item?id=22816415\n",
      "Q: Remember that container per HTTP request demo? === item?id=22815777\n",
      "Ask HN: Why Did StumbleUpon Fail? === item?id=22830854\n",
      "Ask HN: Why not harness Gym energy? === item?id=22814958\n",
      "Ask HN: What are the most timeless development tools, etc., and why? === item?id=22814114\n",
      "Get a free lifetime pro subscription for pitch deck app sizle.io during Covid === item?id=22824904\n",
      "iRobot Launches Robot Simulator, Free Online Curriculum for Robotics Education === item?id=22829845\n",
      "Ask HN: What changes has your company made to save money? === item?id=22827411\n",
      "What's your favorite free game that runs on Linux, and teaches you something? === item?id=22814132\n",
      "Apple's Covid-19 cleaning recommendations again ruin “screen-gate” MacBooks === item?id=22818208\n",
      "Epidemiologist: Social Distancing Guarantees Second Wave of Covid-19 === item?id=22826204\n",
      "Ask HN: How do you manage your emails? === item?id=22816280\n",
      "Ask HN: Are you using A.I. to solve anything around COVID-19?Where can I find it === item?id=22826616\n",
      "Ask HN: Is there such a thing as a WiFi keyboard driver for Linux? === item?id=22836107\n",
      "Ask HN: How to Deal with Trademark Infringement === item?id=22836007\n",
      "Ask HN: Is there a decent ffmpeg GUI for mac? === item?id=22835849\n",
      "Ask HN: What market verticals are benefiting from Coronavirus? === item?id=22835743\n",
      "Ask HN: Interesting sources to learn search architecture and search advertising? === item?id=22835455\n",
      "Ask HN: Which gift card API to choose? === item?id=22835294\n",
      "Ask HN: Prescription Bidding === item?id=22834390\n",
      "How are your internships affected during the lockdown? === item?id=22834260\n",
      "Ask HN: How are you using mind maps? === item?id=22834117\n",
      "Ask HN: Did Google violate their own app store policies today? === item?id=22833810\n"
     ]
    }
   ],
   "source": [
    "data = root_extractor()"
   ]
  },
  {
   "cell_type": "code",
   "execution_count": 42,
   "metadata": {},
   "outputs": [],
   "source": [
    "questions = data.copy()"
   ]
  },
  {
   "cell_type": "code",
   "execution_count": 43,
   "metadata": {},
   "outputs": [
    {
     "data": {
      "text/plain": [
       "[{'Ask HN: How to properly manage a product roadmap?': 'item?id=22827275'},\n",
       " {'Ask HN: Do you monitor your REST APIs?': 'item?id=22823230'},\n",
       " {'Ask HN: Recommend me a course on Coursera': 'item?id=22826722'},\n",
       " {'Ask HN: Has any progress been made on large format E-ink displays?': 'item?id=22827833'},\n",
       " {'Tell HN: Cisco WebEx on OS X uses the same pre-installer tricks as Zoom': 'item?id=22815583'},\n",
       " {'Ask HN: What online learning sessions (zoom etc.) are you attending?': 'item?id=22841460'},\n",
       " {'Ask HN: Paper capital contributions as YC SAFE that converts to common stock?': 'item?id=22838532'},\n",
       " {'Ask HN: What are you doing to make your kid more successful?': 'item?id=22838770'},\n",
       " {'Ask HN: How well do you think your team handled the start of lockdown?': 'item?id=22838251'},\n",
       " {\"I can't process the information that is coming at me\": 'item?id=22831525'},\n",
       " {'Ask HN: Resources to learn basic UI layout design for React apps?': 'item?id=22821336'},\n",
       " {\"Ask HN: Could we restructure society so that people don't hate their jobs?\": 'item?id=22836027'},\n",
       " {'Ask HN: Any sites like oursignal.com?': 'item?id=22836186'},\n",
       " {'Ask HN: Physics/engineering lessons for 14 year olds?': 'item?id=22833216'},\n",
       " {'Ask HN: Advancing career without working over-hours?': 'item?id=22834884'},\n",
       " {'Ask HN: What are your favorite technology podcasts?': 'item?id=22822853'},\n",
       " {'Ask HN: How do you identify people with a strong work ethic?': 'item?id=22836646'},\n",
       " {'Ask HN: How could an introverted coder join the marauders?': 'item?id=22835917'},\n",
       " {'Ask HN: Is there ANY scientific evidence of 5G being harmful': 'item?id=22826668'},\n",
       " {'Ask HN: After becoming a parent, what perspectives changed for you?': 'item?id=22835601'},\n",
       " {'Ask HN: How to start a lending business?': 'item?id=22835522'},\n",
       " {'Netflix should offer free TV for kids who watch educational lessons first': 'item?id=22834819'},\n",
       " {'Ask HN: How do you plan and track the books you want to read?': 'item?id=22834759'},\n",
       " {'Ask HN: How much are sales people making at B2B SaaS companies?': 'item?id=22837793'},\n",
       " {'Ask HN: Why is instant messaging over email not a thing?': 'item?id=22830301'},\n",
       " {'Thought experiment: Imagine we limit all development teams to one': 'item?id=22830092'},\n",
       " {'Ask HN: What is total mass of human-infecting SARS-CoV-2 Covid-19 virus': 'item?id=22832582'},\n",
       " {'WordNet and ImageNet in a clone-able SQL database': 'item?id=22834816'},\n",
       " {'Controlling Covid 19: Stabilize immune response, Cytokine storm': 'item?id=22832204'},\n",
       " {'Ask HN: What has been the impact of Covid on efficiencies in shipping': 'item?id=22837930'},\n",
       " {'What learning tools/ strategies do you use alongside Anki?': 'item?id=22827982'},\n",
       " {'Tell HN: AWS Console takes forever to load': 'item?id=22822646'},\n",
       " {'Any examples of writing/authors who write with algorithmic style – like code?': 'item?id=22826556'},\n",
       " {'Ask HN: Need help and support to fight through challenges': 'item?id=22825091'},\n",
       " {'Ask HN: Why do registrars force you to use their nameservers first?': 'item?id=22830010'},\n",
       " {'Ask HN: Is there a way to block out your property in Google Map et al.?': 'item?id=22823702'},\n",
       " {'Ask HN: Sci-Fi with advanced morals and ethics, not just technology?': 'item?id=22817245'},\n",
       " {\"Ask HN: Who's getting healthier in quarantine and why?\": 'item?id=22838085'},\n",
       " {'Ask HN: How would you design a system with spikes in writes?': 'item?id=22829222'},\n",
       " {'Ask HN: Looking for article about Google reducing their reliance on internal VPN': 'item?id=22829068'},\n",
       " {'Is Udacity Digital Marketing Nanodegree worth subscribing for $1000?': 'item?id=22831664'},\n",
       " {'Ask HN: Does Google censor search suggestions?': 'item?id=22828603'},\n",
       " {'Ask HN: What kind of side business is good to start during an economic crisis?': 'item?id=22817546'},\n",
       " {'Ask HN: Tech stack recommendations for online ordering at a small grocery store?': 'item?id=22827835'},\n",
       " {'Ask HN: Primary news Sources for Covid 19': 'item?id=22833384'},\n",
       " {'Ask HN: How do you keep application data synced with a CRM': 'item?id=22826946'},\n",
       " {\"Ask HN: Why hasn't a vertical rhythm CSS reset caught on?\": 'item?id=22826804'},\n",
       " {'Ask HN: Is there an open-source standard for resume entries?': 'item?id=22826455'},\n",
       " {'Ask HN: What are the best online coding platforms for interview preparation?': 'item?id=22825125'},\n",
       " {'Salary Cut from Coronavirus': 'item?id=22828930'},\n",
       " {'Ask HN: Have you had success renegotiating your office lease?': 'item?id=22824201'},\n",
       " {'Ask HN: Perfect tooling for high-availability statistics?': 'item?id=22824040'},\n",
       " {'Ask HN: What Happened to ICOs?': 'item?id=22823122'},\n",
       " {'Ask HN: Is anyone doing anything interesting with their exported Twitter data?': 'item?id=22816445'},\n",
       " {\"Ask HN: What's your wish list for WFH tools?\": 'item?id=22821002'},\n",
       " {'Ask HN: Are you an open source contributor with a blog?': 'item?id=22820654'},\n",
       " {\"Ask HN: Promo from Senior to Tech Lead, any TL's care to share some wisdom?\": 'item?id=22820395'},\n",
       " {'Google Drive FS collects crash data about Firefox and other applications, why?': 'item?id=22820390'},\n",
       " {'Building a super-app/platform like Grab, GO-JEK, and WeChat; for Africa': 'item?id=22819490'},\n",
       " {'Ask HN: Drone Delivery Post-Covid?': 'item?id=22818292'},\n",
       " {'Ask HN: Thoughts on the State of Video DRM?': 'item?id=22816415'},\n",
       " {'Q: Remember that container per HTTP request demo?': 'item?id=22815777'},\n",
       " {'Ask HN: Why Did StumbleUpon Fail?': 'item?id=22830854'},\n",
       " {'Ask HN: Why not harness Gym energy?': 'item?id=22814958'},\n",
       " {'Ask HN: What are the most timeless development tools, etc., and why?': 'item?id=22814114'},\n",
       " {'Get a free lifetime pro subscription for pitch deck app sizle.io during Covid': 'item?id=22824904'},\n",
       " {'iRobot Launches Robot Simulator, Free Online Curriculum for Robotics Education': 'item?id=22829845'},\n",
       " {'Ask HN: What changes has your company made to save money?': 'item?id=22827411'},\n",
       " {\"What's your favorite free game that runs on Linux, and teaches you something?\": 'item?id=22814132'},\n",
       " {\"Apple's Covid-19 cleaning recommendations again ruin “screen-gate” MacBooks\": 'item?id=22818208'},\n",
       " {'Epidemiologist: Social Distancing Guarantees Second Wave of Covid-19': 'item?id=22826204'},\n",
       " {'Ask HN: How do you manage your emails?': 'item?id=22816280'},\n",
       " {'Ask HN: Are you using A.I. to solve anything around COVID-19?Where can I find it': 'item?id=22826616'},\n",
       " {'Ask HN: Is there such a thing as a WiFi keyboard driver for Linux?': 'item?id=22836107'},\n",
       " {'Ask HN: How to Deal with Trademark Infringement': 'item?id=22836007'},\n",
       " {'Ask HN: Is there a decent ffmpeg GUI for mac?': 'item?id=22835849'},\n",
       " {'Ask HN: What market verticals are benefiting from Coronavirus?': 'item?id=22835743'},\n",
       " {'Ask HN: Interesting sources to learn search architecture and search advertising?': 'item?id=22835455'},\n",
       " {'Ask HN: Which gift card API to choose?': 'item?id=22835294'},\n",
       " {'Ask HN: Prescription Bidding': 'item?id=22834390'},\n",
       " {'How are your internships affected during the lockdown?': 'item?id=22834260'},\n",
       " {'Ask HN: How are you using mind maps?': 'item?id=22834117'},\n",
       " {'Ask HN: Did Google violate their own app store policies today?': 'item?id=22833810'}]"
      ]
     },
     "execution_count": 43,
     "metadata": {},
     "output_type": "execute_result"
    }
   ],
   "source": [
    "questions"
   ]
  },
  {
   "cell_type": "code",
   "execution_count": 35,
   "metadata": {},
   "outputs": [],
   "source": [
    "news = data.copy()"
   ]
  }
 ],
 "metadata": {
  "kernelspec": {
   "display_name": "Python 3",
   "language": "python",
   "name": "python3"
  },
  "language_info": {
   "codemirror_mode": {
    "name": "ipython",
    "version": 3
   },
   "file_extension": ".py",
   "mimetype": "text/x-python",
   "name": "python",
   "nbconvert_exporter": "python",
   "pygments_lexer": "ipython3",
   "version": "3.7.7"
  }
 },
 "nbformat": 4,
 "nbformat_minor": 4
}
