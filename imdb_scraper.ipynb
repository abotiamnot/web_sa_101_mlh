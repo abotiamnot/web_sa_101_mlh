{
 "cells": [
  {
   "cell_type": "code",
   "execution_count": 8,
   "metadata": {},
   "outputs": [],
   "source": [
    "from bs4 import BeautifulSoup\n",
    "import requests, csv, re"
   ]
  },
  {
   "cell_type": "code",
   "execution_count": 154,
   "metadata": {},
   "outputs": [],
   "source": [
    "main_source = r'https://www.imdb.com/chart/top/'\n",
    "movie_list = r'https://www.imdb.com/search/title/?genres={}&sort=user_rating,desc&title_type=feature&num_votes=25000,&pf_rd_m=A2FGELUUNOQJNL&pf_rd_p=5aab685f-35eb-40f3-95f7-c53f09d542c3&pf_rd_r=Q3T2R6J68WYTY77VA6WR&pf_rd_s=right-6&pf_rd_t=15506&pf_rd_i=top&ref_=chttp_gnr_1'"
   ]
  },
  {
   "cell_type": "code",
   "execution_count": 155,
   "metadata": {},
   "outputs": [],
   "source": [
    "def get_genre_tags():\n",
    "    source_ = re.compile(r'/search/title\\?genres=(.*)\\&sort=user_rating,')\n",
    "    source_html = requests.get(main_source)\n",
    "    genre_tags = re.findall(source_, source_html.text)\n",
    "    return genre_tags"
   ]
  },
  {
   "cell_type": "code",
   "execution_count": 159,
   "metadata": {},
   "outputs": [],
   "source": [
    "def list_scraper(list_link, number=5, extract_metadata=True):\n",
    "    all_movies = []\n",
    "    movie_list_html = requests.get(list_link)\n",
    "    for i in range(0, number):\n",
    "        print('Taking care of {}/{}'.format(i, number))\n",
    "        movie_dict = {\n",
    "        'TITLE': None,\n",
    "        'RUNTIME': None,\n",
    "        'RATING': None\n",
    "        }\n",
    "        soup = BeautifulSoup(movie_list_html.text)\n",
    "        movie_boxes = soup.findAll('div', class_='lister-item mode-advanced')\n",
    "        movie_dict['TITLE'] = movie_boxes[i].find('h3', class_='lister-item-header').text.split('\\n')[2]\n",
    "        movie_dict['RUNTIME'] = movie_boxes[i].find('span', class_='runtime').text\n",
    "        movie_dict['RATING'] = movie_boxes[i].find('div', class_='inline-block ratings-imdb-rating').text.strip()\n",
    "        if extract_metadata:\n",
    "            print(\"Getting metadata for ^\")\n",
    "            temp = movie_boxes[i].find('div', class_='lister-item-image float-left')\n",
    "            movie_url = 'https://www.imdb.com' + temp.find('a').get('href')\n",
    "            metadata_dict = movie_page(movie_url)\n",
    "        movie_dict.update(metadata_dict)\n",
    "        all_movies.append(movie_dict)\n",
    "    return all_movies"
   ]
  },
  {
   "cell_type": "code",
   "execution_count": 160,
   "metadata": {},
   "outputs": [],
   "source": [
    "def movie_page(movie_url):\n",
    "    metadata_dict = {\n",
    "        'DIRECTOR': None,\n",
    "        'CAST': None,\n",
    "        'STORYLINE': None\n",
    "    }\n",
    "    source = requests.get(movie_url)\n",
    "    soup = BeautifulSoup(source.text)\n",
    "    metadata_dict['DIRECTOR'] = soup.findAll('div', class_='credit_summary_item')[0].text.split('\\n')[2]\n",
    "    metadata_dict['STORYLINE'] = soup.findAll('div', class_='inline canwrap')[0].text.strip()\n",
    "    all_cast = []\n",
    "    cast_table = soup.find('table', class_='cast_list')\n",
    "    cast_blocks = soup.findAll('tr', class_='odd')\n",
    "    cast_blocks.append(soup.findAll('tr', class_='even'))\n",
    "    for elem in cast_blocks:\n",
    "        try:\n",
    "            all_cast.append(elem.findAll('td')[1].text.strip())\n",
    "        except Exception:\n",
    "            continue\n",
    "    metadata_dict['CAST'] = ','.join(all_cast)\n",
    "    return metadata_dict"
   ]
  },
  {
   "cell_type": "code",
   "execution_count": 156,
   "metadata": {},
   "outputs": [],
   "source": [
    "all_tags = get_genre_tags()"
   ]
  },
  {
   "cell_type": "code",
   "execution_count": 162,
   "metadata": {},
   "outputs": [
    {
     "data": {
      "text/plain": [
       "['action',\n",
       " 'adventure',\n",
       " 'animation',\n",
       " 'biography',\n",
       " 'comedy',\n",
       " 'crime',\n",
       " 'drama',\n",
       " 'family',\n",
       " 'fantasy',\n",
       " 'film_noir',\n",
       " 'history',\n",
       " 'horror',\n",
       " 'music',\n",
       " 'musical',\n",
       " 'mystery',\n",
       " 'romance',\n",
       " 'sci_fi',\n",
       " 'sport',\n",
       " 'thriller',\n",
       " 'war',\n",
       " 'western']"
      ]
     },
     "execution_count": 162,
     "metadata": {},
     "output_type": "execute_result"
    }
   ],
   "source": [
    "all_tags"
   ]
  },
  {
   "cell_type": "code",
   "execution_count": 164,
   "metadata": {},
   "outputs": [
    {
     "name": "stdout",
     "output_type": "stream",
     "text": [
      "Handling https://www.imdb.com/search/title/?genres=action&sort=user_rating,desc&title_type=feature&num_votes=25000,&pf_rd_m=A2FGELUUNOQJNL&pf_rd_p=5aab685f-35eb-40f3-95f7-c53f09d542c3&pf_rd_r=Q3T2R6J68WYTY77VA6WR&pf_rd_s=right-6&pf_rd_t=15506&pf_rd_i=top&ref_=chttp_gnr_1\n",
      "Taking care of 0/5\n",
      "Getting metadata for ^\n",
      "Taking care of 1/5\n",
      "Getting metadata for ^\n",
      "Taking care of 2/5\n",
      "Getting metadata for ^\n",
      "Taking care of 3/5\n",
      "Getting metadata for ^\n",
      "Taking care of 4/5\n",
      "Getting metadata for ^\n",
      "Handling https://www.imdb.com/search/title/?genres=adventure&sort=user_rating,desc&title_type=feature&num_votes=25000,&pf_rd_m=A2FGELUUNOQJNL&pf_rd_p=5aab685f-35eb-40f3-95f7-c53f09d542c3&pf_rd_r=Q3T2R6J68WYTY77VA6WR&pf_rd_s=right-6&pf_rd_t=15506&pf_rd_i=top&ref_=chttp_gnr_1\n",
      "Taking care of 0/5\n",
      "Getting metadata for ^\n",
      "Taking care of 1/5\n",
      "Getting metadata for ^\n",
      "Taking care of 2/5\n",
      "Getting metadata for ^\n",
      "Taking care of 3/5\n",
      "Getting metadata for ^\n",
      "Taking care of 4/5\n",
      "Getting metadata for ^\n"
     ]
    }
   ],
   "source": [
    "final_movie_dict = []\n",
    "for tag in all_tags[0:2]:\n",
    "    print(\"Handling {}\".format(movie_list.format(tag)))\n",
    "    movie_db = list_scraper(movie_list.format(tag))\n",
    "    final_movie_dict = final_movie_dict + movie_db"
   ]
  },
  {
   "cell_type": "code",
   "execution_count": 168,
   "metadata": {},
   "outputs": [],
   "source": [
    "def to_csv(list_dict):\n",
    "    keys = list_dict[0].keys()\n",
    "    with open('people.csv', 'w') as output_file:\n",
    "        dict_writer = csv.DictWriter(output_file, keys)\n",
    "        dict_writer.writeheader()\n",
    "        dict_writer.writerows(list_dict)"
   ]
  },
  {
   "cell_type": "code",
   "execution_count": 169,
   "metadata": {},
   "outputs": [],
   "source": [
    "to_csv(final_movie_dict)"
   ]
  },
  {
   "cell_type": "code",
   "execution_count": null,
   "metadata": {},
   "outputs": [],
   "source": []
  }
 ],
 "metadata": {
  "kernelspec": {
   "display_name": "Python 3",
   "language": "python",
   "name": "python3"
  },
  "language_info": {
   "codemirror_mode": {
    "name": "ipython",
    "version": 3
   },
   "file_extension": ".py",
   "mimetype": "text/x-python",
   "name": "python",
   "nbconvert_exporter": "python",
   "pygments_lexer": "ipython3",
   "version": "3.7.7"
  }
 },
 "nbformat": 4,
 "nbformat_minor": 4
}
