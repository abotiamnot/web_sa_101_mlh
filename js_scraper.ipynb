{
 "cells": [
  {
   "cell_type": "code",
   "execution_count": 1,
   "metadata": {},
   "outputs": [],
   "source": [
    "import requests\n",
    "from bs4 import BeautifulSoup\n",
    "from selenium import webdriver\n",
    "import time\n",
    "import csv"
   ]
  },
  {
   "cell_type": "code",
   "execution_count": 4,
   "metadata": {},
   "outputs": [],
   "source": [
    "def set_up_base(mode, w_time=30):\n",
    "    file_name = '{}_{}_{}_{}_{}_{}.csv'.format(mode, time.gmtime()[0], time.gmtime()[1], time.gmtime()[2], time.gmtime()[3],\n",
    "                                              time.gmtime()[4])\n",
    "    driver = webdriver.Firefox()\n",
    "    driver.get('https://m.huobi.io/market/chart/?s=btc_usdt')\n",
    "    time.sleep(5)\n",
    "    if mode == 'DAY':\n",
    "        button_1 = driver.find_element_by_xpath('//span[@data-period=\"1day\"]')\n",
    "        button_1.click()\n",
    "    if mode == 'HOUR':\n",
    "        button_1 = driver.find_element_by_xpath('//span[@data-period=\"1hour\"]')\n",
    "        button_1.click()\n",
    "    time.sleep(5)\n",
    "    while True:\n",
    "        source = driver.page_source\n",
    "        soup = BeautifulSoup(source)\n",
    "        current_time = time.ctime()\n",
    "        entries = {'TIME': current_time,\n",
    "                    'MA5': soup.findAll('span', {\"style\": \"color:#F6DC93\"})[0].text,\n",
    "                    'MA10': soup.findAll('span', {\"style\": \"color:#61D1C0\"})[0].text,\n",
    "                    'MA30': soup.findAll('span', {\"style\": \"color:#CB92FE\"})[0].text}\n",
    "        write_to_csv(entries, file_name)\n",
    "        time.sleep(5)\n",
    "        print(entries)\n"
   ]
  },
  {
   "cell_type": "code",
   "execution_count": 3,
   "metadata": {},
   "outputs": [],
   "source": [
    "def write_to_csv(entry_dict, file_name):\n",
    "    with open(file_name, 'a') as f:\n",
    "        fieldnames = list(entry_dict.keys())\n",
    "        writer = csv.DictWriter(f, fieldnames=fieldnames)\n",
    "        writer.writeheader()\n",
    "        writer.writerow(entry_dict)\n",
    "\n",
    "# set_up_base('DAY')"
   ]
  },
  {
   "cell_type": "code",
   "execution_count": null,
   "metadata": {},
   "outputs": [],
   "source": []
  }
 ],
 "metadata": {
  "kernelspec": {
   "display_name": "Python 3",
   "language": "python",
   "name": "python3"
  },
  "language_info": {
   "codemirror_mode": {
    "name": "ipython",
    "version": 3
   },
   "file_extension": ".py",
   "mimetype": "text/x-python",
   "name": "python",
   "nbconvert_exporter": "python",
   "pygments_lexer": "ipython3",
   "version": "3.7.7"
  }
 },
 "nbformat": 4,
 "nbformat_minor": 4
}
